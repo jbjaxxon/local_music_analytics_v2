{
 "metadata": {
  "language_info": {
   "codemirror_mode": {
    "name": "ipython",
    "version": 3
   },
   "file_extension": ".py",
   "mimetype": "text/x-python",
   "name": "python",
   "nbconvert_exporter": "python",
   "pygments_lexer": "ipython3",
   "version": "3.9.1-final"
  },
  "orig_nbformat": 2,
  "kernelspec": {
   "name": "python3",
   "display_name": "Python 3.9.1 64-bit",
   "metadata": {
    "interpreter": {
     "hash": "ee5cc6fef2d70a7e71ee3826687cbd150f18158e0b1eef11d4f4f92bb920e304"
    }
   }
  }
 },
 "nbformat": 4,
 "nbformat_minor": 2,
 "cells": [
  {
   "cell_type": "code",
   "execution_count": 150,
   "metadata": {},
   "outputs": [],
   "source": [
    "import spotipy\n",
    "from spotipy.oauth2 import SpotifyClientCredentials\n",
    "import pandas as pd \n",
    "import time \n",
    "import pprint\n",
    "import sys\n",
    "import math\n",
    "import spotipy\n",
    "import spotipy.util as util\n",
    "\n",
    "SPOTIPY_CLIENT_ID='beb55c03e9d647e6ac01fe69751c1067'\n",
    "SPOTIPY_CLIENT_SECRET='2957070a9a0a4d75a92e6091cd67dfd2'\n",
    "SPOTIPY_REDIRECT_URI='http://localhost:8888'\n",
    "\n",
    "cid = '3ac843f881d943ff8cb08a2f660fc58e'\n",
    "secret = 'e409995d02ba4c038fcd22b4b10c4ca6'\n",
    "client_credentials_manager = SpotifyClientCredentials(client_id=cid, client_secret=secret)\n",
    "sp = spotipy.Spotify(client_credentials_manager\n",
    "=\n",
    "client_credentials_manager)\n",
    "\n",
    "import pandas as pd \n",
    "import time "
   ]
  },
  {
   "cell_type": "code",
   "execution_count": 151,
   "metadata": {},
   "outputs": [],
   "source": [
    "playlist_id = '1kIWAmjxOhvgmdZmbp1RiH'\n",
    "username = '1262504911'"
   ]
  },
  {
   "cell_type": "code",
   "execution_count": 152,
   "metadata": {},
   "outputs": [],
   "source": [
    "# token = auth.get_access_token()\n",
    "token = util.prompt_for_user_token(username=username, scope = 'playlist-modify user-read-private' , client_id=SPOTIPY_CLIENT_ID, client_secret=SPOTIPY_CLIENT_SECRET, redirect_uri=SPOTIPY_REDIRECT_URI)\n",
    "spotify = spotipy.Spotify(auth=token)\n",
    "sp = spotipy.Spotify(auth=token)"
   ]
  },
  {
   "cell_type": "code",
   "execution_count": 87,
   "metadata": {},
   "outputs": [],
   "source": [
    "def get_playlist_tracks(username,playlist_id):\n",
    "    results = sp.user_playlist_tracks(username,playlist_id)\n",
    "    tracks = results['items']\n",
    "    while results['next']:\n",
    "        results = sp.next(results)\n",
    "        tracks.extend(results['items'])\n",
    "    return tracks"
   ]
  },
  {
   "cell_type": "code",
   "execution_count": 120,
   "metadata": {},
   "outputs": [],
   "source": [
    "track_dict = sp.playlist_tracks(playlist_id, fields=None, limit=100, offset=0, market=None)\n",
    "# print(track_dict['items'][0])\n",
    "# ['added_at']"
   ]
  },
  {
   "cell_type": "code",
   "execution_count": 130,
   "metadata": {},
   "outputs": [
    {
     "output_type": "stream",
     "name": "stdout",
     "text": [
      "[26, 12, 2, 23, 30, 9, 29, 9, 11, 10, 21, 7, 6, 11, 20, 14, 6, 30, 22, 16, 26, 21, 21, 12, 21, 28, 9, 21]\n"
     ]
    }
   ],
   "source": [
    "import random\n",
    "randomlist = []\n",
    "for i in range(0,28):\n",
    "    n = random.randint(1,30)\n",
    "    randomlist.append(n)\n",
    "print(randomlist)"
   ]
  },
  {
   "cell_type": "code",
   "execution_count": 143,
   "metadata": {
    "tags": [
     "outputPrepend"
    ]
   },
   "outputs": [
    {
     "output_type": "stream",
     "name": "stdout",
     "text": [
      "C2Oet3Cp', 'id': '53IcjOA3gsDUypC2Oet3Cp', 'images': [{'height': 640, 'url': 'https://i.scdn.co/image/ab67616d0000b273c133f8a83d89c72c3529e039', 'width': 640}, {'height': 300, 'url': 'https://i.scdn.co/image/ab67616d00001e02c133f8a83d89c72c3529e039', 'width': 300}, {'height': 64, 'url': 'https://i.scdn.co/image/ab67616d00004851c133f8a83d89c72c3529e039', 'width': 64}], 'name': 'I Still Want to Live in a Treehouse', 'release_date': '2020-07-17', 'release_date_precision': 'day', 'total_tracks': 10, 'type': 'album', 'uri': 'spotify:album:53IcjOA3gsDUypC2Oet3Cp'}, 'artists': [{'external_urls': {'spotify': 'https://open.spotify.com/artist/6XA55ngSJ103aClybeiMvH'}, 'href': 'https://api.spotify.com/v1/artists/6XA55ngSJ103aClybeiMvH', 'id': '6XA55ngSJ103aClybeiMvH', 'name': 'Jackson Fields', 'type': 'artist', 'uri': 'spotify:artist:6XA55ngSJ103aClybeiMvH'}], 'available_markets': ['AD', 'AE', 'AL', 'AR', 'AT', 'AU', 'BA', 'BE', 'BG', 'BH', 'BO', 'BR', 'BY', 'CA', 'CH', 'CL', 'CO', 'CR', 'CY', 'CZ', 'DE', 'DK', 'DO', 'DZ', 'EC', 'EE', 'EG', 'ES', 'FI', 'FR', 'GB', 'GR', 'GT', 'HK', 'HN', 'HR', 'HU', 'ID', 'IE', 'IL', 'IN', 'IS', 'IT', 'JO', 'JP', 'KW', 'KZ', 'LB', 'LI', 'LT', 'LU', 'LV', 'MA', 'MC', 'MD', 'ME', 'MK', 'MT', 'MX', 'MY', 'NI', 'NL', 'NO', 'NZ', 'OM', 'PA', 'PE', 'PH', 'PL', 'PS', 'PT', 'PY', 'QA', 'RO', 'RS', 'RU', 'SA', 'SE', 'SG', 'SI', 'SK', 'SV', 'TH', 'TN', 'TR', 'TW', 'UA', 'US', 'UY', 'VN', 'XK', 'ZA'], 'disc_number': 1, 'duration_ms': 214204, 'episode': False, 'explicit': False, 'external_ids': {'isrc': 'QZHN82070046'}, 'external_urls': {'spotify': 'https://open.spotify.com/track/6kfqlkcczwYzsDpVNlEuv7'}, 'href': 'https://api.spotify.com/v1/tracks/6kfqlkcczwYzsDpVNlEuv7', 'id': '6kfqlkcczwYzsDpVNlEuv7', 'is_local': False, 'name': 'Call It What You Will', 'popularity': 1, 'preview_url': 'https://p.scdn.co/mp3-preview/d28b2d577b6a46f3e930c6dee656030bce70ef05?cid=beb55c03e9d647e6ac01fe69751c1067', 'track': True, 'track_number': 3, 'type': 'track', 'uri': 'spotify:track:6kfqlkcczwYzsDpVNlEuv7'}, 'video_thumbnail': {'url': None}}, {'added_at': '2021-01-19T23:06:14Z', 'added_by': {'external_urls': {'spotify': 'https://open.spotify.com/user/1262504911'}, 'href': 'https://api.spotify.com/v1/users/1262504911', 'id': '1262504911', 'type': 'user', 'uri': 'spotify:user:1262504911'}, 'is_local': False, 'primary_color': None, 'track': {'album': {'album_type': 'album', 'artists': [{'external_urls': {'spotify': 'https://open.spotify.com/artist/6XA55ngSJ103aClybeiMvH'}, 'href': 'https://api.spotify.com/v1/artists/6XA55ngSJ103aClybeiMvH', 'id': '6XA55ngSJ103aClybeiMvH', 'name': 'Jackson Fields', 'type': 'artist', 'uri': 'spotify:artist:6XA55ngSJ103aClybeiMvH'}], 'available_markets': ['AD', 'AE', 'AL', 'AR', 'AT', 'AU', 'BA', 'BE', 'BG', 'BH', 'BO', 'BR', 'BY', 'CA', 'CH', 'CL', 'CO', 'CR', 'CY', 'CZ', 'DE', 'DK', 'DO', 'DZ', 'EC', 'EE', 'EG', 'ES', 'FI', 'FR', 'GB', 'GR', 'GT', 'HK', 'HN', 'HR', 'HU', 'ID', 'IE', 'IL', 'IN', 'IS', 'IT', 'JO', 'JP', 'KW', 'KZ', 'LB', 'LI', 'LT', 'LU', 'LV', 'MA', 'MC', 'MD', 'ME', 'MK', 'MT', 'MX', 'MY', 'NI', 'NL', 'NO', 'NZ', 'OM', 'PA', 'PE', 'PH', 'PL', 'PS', 'PT', 'PY', 'QA', 'RO', 'RS', 'RU', 'SA', 'SE', 'SG', 'SI', 'SK', 'SV', 'TH', 'TN', 'TR', 'TW', 'UA', 'US', 'UY', 'VN', 'XK', 'ZA'], 'external_urls': {'spotify': 'https://open.spotify.com/album/2yvYJ9xXMDdKokbKfU0FKb'}, 'href': 'https://api.spotify.com/v1/albums/2yvYJ9xXMDdKokbKfU0FKb', 'id': '2yvYJ9xXMDdKokbKfU0FKb', 'images': [{'height': 640, 'url': 'https://i.scdn.co/image/ab67616d0000b2733307ae8239e0fc87e08145c0', 'width': 640}, {'height': 300, 'url': 'https://i.scdn.co/image/ab67616d00001e023307ae8239e0fc87e08145c0', 'width': 300}, {'height': 64, 'url': 'https://i.scdn.co/image/ab67616d000048513307ae8239e0fc87e08145c0', 'width': 64}], 'name': 'When My Mind Goes', 'release_date': '2019-08-16', 'release_date_precision': 'day', 'total_tracks': 11, 'type': 'album', 'uri': 'spotify:album:2yvYJ9xXMDdKokbKfU0FKb'}, 'artists': [{'external_urls': {'spotify': 'https://open.spotify.com/artist/6XA55ngSJ103aClybeiMvH'}, 'href': 'https://api.spotify.com/v1/artists/6XA55ngSJ103aClybeiMvH', 'id': '6XA55ngSJ103aClybeiMvH', 'name': 'Jackson Fields', 'type': 'artist', 'uri': 'spotify:artist:6XA55ngSJ103aClybeiMvH'}], 'available_markets': ['AD', 'AE', 'AL', 'AR', 'AT', 'AU', 'BA', 'BE', 'BG', 'BH', 'BO', 'BR', 'BY', 'CA', 'CH', 'CL', 'CO', 'CR', 'CY', 'CZ', 'DE', 'DK', 'DO', 'DZ', 'EC', 'EE', 'EG', 'ES', 'FI', 'FR', 'GB', 'GR', 'GT', 'HK', 'HN', 'HR', 'HU', 'ID', 'IE', 'IL', 'IN', 'IS', 'IT', 'JO', 'JP', 'KW', 'KZ', 'LB', 'LI', 'LT', 'LU', 'LV', 'MA', 'MC', 'MD', 'ME', 'MK', 'MT', 'MX', 'MY', 'NI', 'NL', 'NO', 'NZ', 'OM', 'PA', 'PE', 'PH', 'PL', 'PS', 'PT', 'PY', 'QA', 'RO', 'RS', 'RU', 'SA', 'SE', 'SG', 'SI', 'SK', 'SV', 'TH', 'TN', 'TR', 'TW', 'UA', 'US', 'UY', 'VN', 'XK', 'ZA'], 'disc_number': 1, 'duration_ms': 163096, 'episode': False, 'explicit': False, 'external_ids': {'isrc': 'QZFYX1982101'}, 'external_urls': {'spotify': 'https://open.spotify.com/track/4ZZzyhMRkgLl5kIFVlENBX'}, 'href': 'https://api.spotify.com/v1/tracks/4ZZzyhMRkgLl5kIFVlENBX', 'id': '4ZZzyhMRkgLl5kIFVlENBX', 'is_local': False, 'name': 'Time on Our Own', 'popularity': 1, 'preview_url': 'https://p.scdn.co/mp3-preview/8e5ec4128c572931ce21a60f1b9c96f48fbbd364?cid=beb55c03e9d647e6ac01fe69751c1067', 'track': True, 'track_number': 2, 'type': 'track', 'uri': 'spotify:track:4ZZzyhMRkgLl5kIFVlENBX'}, 'video_thumbnail': {'url': None}}, {'added_at': '2021-01-19T23:06:14Z', 'added_by': {'external_urls': {'spotify': 'https://open.spotify.com/user/1262504911'}, 'href': 'https://api.spotify.com/v1/users/1262504911', 'id': '1262504911', 'type': 'user', 'uri': 'spotify:user:1262504911'}, 'is_local': False, 'primary_color': None, 'track': {'album': {'album_type': 'album', 'artists': [{'external_urls': {'spotify': 'https://open.spotify.com/artist/6XA55ngSJ103aClybeiMvH'}, 'href': 'https://api.spotify.com/v1/artists/6XA55ngSJ103aClybeiMvH', 'id': '6XA55ngSJ103aClybeiMvH', 'name': 'Jackson Fields', 'type': 'artist', 'uri': 'spotify:artist:6XA55ngSJ103aClybeiMvH'}], 'available_markets': ['AD', 'AE', 'AL', 'AR', 'AT', 'AU', 'BA', 'BE', 'BG', 'BH', 'BO', 'BR', 'BY', 'CA', 'CH', 'CL', 'CO', 'CR', 'CY', 'CZ', 'DE', 'DK', 'DO', 'DZ', 'EC', 'EE', 'EG', 'ES', 'FI', 'FR', 'GB', 'GR', 'GT', 'HK', 'HN', 'HR', 'HU', 'ID', 'IE', 'IL', 'IN', 'IS', 'IT', 'JO', 'JP', 'KW', 'KZ', 'LB', 'LI', 'LT', 'LU', 'LV', 'MA', 'MC', 'MD', 'ME', 'MK', 'MT', 'MX', 'MY', 'NI', 'NL', 'NO', 'NZ', 'OM', 'PA', 'PE', 'PH', 'PL', 'PS', 'PT', 'PY', 'QA', 'RO', 'RS', 'RU', 'SA', 'SE', 'SG', 'SI', 'SK', 'SV', 'TH', 'TN', 'TR', 'TW', 'UA', 'US', 'UY', 'VN', 'XK', 'ZA'], 'external_urls': {'spotify': 'https://open.spotify.com/album/6qxh4o6K6aQoPZNih6fZz8'}, 'href': 'https://api.spotify.com/v1/albums/6qxh4o6K6aQoPZNih6fZz8', 'id': '6qxh4o6K6aQoPZNih6fZz8', 'images': [{'height': 640, 'url': 'https://i.scdn.co/image/ab67616d0000b27366bfb088bcc1de675bf1d7a3', 'width': 640}, {'height': 300, 'url': 'https://i.scdn.co/image/ab67616d00001e0266bfb088bcc1de675bf1d7a3', 'width': 300}, {'height': 64, 'url': 'https://i.scdn.co/image/ab67616d0000485166bfb088bcc1de675bf1d7a3', 'width': 64}], 'name': 'People & Places & Things', 'release_date': '2018-09-28', 'release_date_precision': 'day', 'total_tracks': 10, 'type': 'album', 'uri': 'spotify:album:6qxh4o6K6aQoPZNih6fZz8'}, 'artists': [{'external_urls': {'spotify': 'https://open.spotify.com/artist/6XA55ngSJ103aClybeiMvH'}, 'href': 'https://api.spotify.com/v1/artists/6XA55ngSJ103aClybeiMvH', 'id': '6XA55ngSJ103aClybeiMvH', 'name': 'Jackson Fields', 'type': 'artist', 'uri': 'spotify:artist:6XA55ngSJ103aClybeiMvH'}], 'available_markets': ['AD', 'AE', 'AL', 'AR', 'AT', 'AU', 'BA', 'BE', 'BG', 'BH', 'BO', 'BR', 'BY', 'CA', 'CH', 'CL', 'CO', 'CR', 'CY', 'CZ', 'DE', 'DK', 'DO', 'DZ', 'EC', 'EE', 'EG', 'ES', 'FI', 'FR', 'GB', 'GR', 'GT', 'HK', 'HN', 'HR', 'HU', 'ID', 'IE', 'IL', 'IN', 'IS', 'IT', 'JO', 'JP', 'KW', 'KZ', 'LB', 'LI', 'LT', 'LU', 'LV', 'MA', 'MC', 'MD', 'ME', 'MK', 'MT', 'MX', 'MY', 'NI', 'NL', 'NO', 'NZ', 'OM', 'PA', 'PE', 'PH', 'PL', 'PS', 'PT', 'PY', 'QA', 'RO', 'RS', 'RU', 'SA', 'SE', 'SG', 'SI', 'SK', 'SV', 'TH', 'TN', 'TR', 'TW', 'UA', 'US', 'UY', 'VN', 'XK', 'ZA'], 'disc_number': 1, 'duration_ms': 192552, 'episode': False, 'explicit': False, 'external_ids': {'isrc': 'QMPKX1839301'}, 'external_urls': {'spotify': 'https://open.spotify.com/track/0smxVVaarb0fppnkleRTKl'}, 'href': 'https://api.spotify.com/v1/tracks/0smxVVaarb0fppnkleRTKl', 'id': '0smxVVaarb0fppnkleRTKl', 'is_local': False, 'name': 'All at Once', 'popularity': 1, 'preview_url': 'https://p.scdn.co/mp3-preview/0b0612a0a4f3ee81276935373e38c5fb764ae1eb?cid=beb55c03e9d647e6ac01fe69751c1067', 'track': True, 'track_number': 2, 'type': 'track', 'uri': 'spotify:track:0smxVVaarb0fppnkleRTKl'}, 'video_thumbnail': {'url': None}}, {'added_at': '2021-01-19T23:06:14Z', 'added_by': {'external_urls': {'spotify': 'https://open.spotify.com/user/1262504911'}, 'href': 'https://api.spotify.com/v1/users/1262504911', 'id': '1262504911', 'type': 'user', 'uri': 'spotify:user:1262504911'}, 'is_local': False, 'primary_color': None, 'track': {'album': {'album_type': 'album', 'artists': [{'external_urls': {'spotify': 'https://open.spotify.com/artist/6XA55ngSJ103aClybeiMvH'}, 'href': 'https://api.spotify.com/v1/artists/6XA55ngSJ103aClybeiMvH', 'id': '6XA55ngSJ103aClybeiMvH', 'name': 'Jackson Fields', 'type': 'artist', 'uri': 'spotify:artist:6XA55ngSJ103aClybeiMvH'}], 'available_markets': ['AD', 'AE', 'AL', 'AR', 'AT', 'AU', 'BA', 'BE', 'BG', 'BH', 'BO', 'BR', 'BY', 'CA', 'CH', 'CL', 'CO', 'CR', 'CY', 'CZ', 'DE', 'DK', 'DO', 'DZ', 'EC', 'EE', 'EG', 'ES', 'FI', 'FR', 'GB', 'GR', 'GT', 'HK', 'HN', 'HR', 'HU', 'ID', 'IE', 'IL', 'IN', 'IS', 'IT', 'JO', 'JP', 'KW', 'KZ', 'LB', 'LI', 'LT', 'LU', 'LV', 'MA', 'MC', 'MD', 'ME', 'MK', 'MT', 'MX', 'MY', 'NI', 'NL', 'NO', 'NZ', 'OM', 'PA', 'PE', 'PH', 'PL', 'PS', 'PT', 'PY', 'QA', 'RO', 'RS', 'RU', 'SA', 'SE', 'SG', 'SI', 'SK', 'SV', 'TH', 'TN', 'TR', 'TW', 'UA', 'US', 'UY', 'VN', 'XK', 'ZA'], 'external_urls': {'spotify': 'https://open.spotify.com/album/6qxh4o6K6aQoPZNih6fZz8'}, 'href': 'https://api.spotify.com/v1/albums/6qxh4o6K6aQoPZNih6fZz8', 'id': '6qxh4o6K6aQoPZNih6fZz8', 'images': [{'height': 640, 'url': 'https://i.scdn.co/image/ab67616d0000b27366bfb088bcc1de675bf1d7a3', 'width': 640}, {'height': 300, 'url': 'https://i.scdn.co/image/ab67616d00001e0266bfb088bcc1de675bf1d7a3', 'width': 300}, {'height': 64, 'url': 'https://i.scdn.co/image/ab67616d0000485166bfb088bcc1de675bf1d7a3', 'width': 64}], 'name': 'People & Places & Things', 'release_date': '2018-09-28', 'release_date_precision': 'day', 'total_tracks': 10, 'type': 'album', 'uri': 'spotify:album:6qxh4o6K6aQoPZNih6fZz8'}, 'artists': [{'external_urls': {'spotify': 'https://open.spotify.com/artist/6XA55ngSJ103aClybeiMvH'}, 'href': 'https://api.spotify.com/v1/artists/6XA55ngSJ103aClybeiMvH', 'id': '6XA55ngSJ103aClybeiMvH', 'name': 'Jackson Fields', 'type': 'artist', 'uri': 'spotify:artist:6XA55ngSJ103aClybeiMvH'}], 'available_markets': ['AD', 'AE', 'AL', 'AR', 'AT', 'AU', 'BA', 'BE', 'BG', 'BH', 'BO', 'BR', 'BY', 'CA', 'CH', 'CL', 'CO', 'CR', 'CY', 'CZ', 'DE', 'DK', 'DO', 'DZ', 'EC', 'EE', 'EG', 'ES', 'FI', 'FR', 'GB', 'GR', 'GT', 'HK', 'HN', 'HR', 'HU', 'ID', 'IE', 'IL', 'IN', 'IS', 'IT', 'JO', 'JP', 'KW', 'KZ', 'LB', 'LI', 'LT', 'LU', 'LV', 'MA', 'MC', 'MD', 'ME', 'MK', 'MT', 'MX', 'MY', 'NI', 'NL', 'NO', 'NZ', 'OM', 'PA', 'PE', 'PH', 'PL', 'PS', 'PT', 'PY', 'QA', 'RO', 'RS', 'RU', 'SA', 'SE', 'SG', 'SI', 'SK', 'SV', 'TH', 'TN', 'TR', 'TW', 'UA', 'US', 'UY', 'VN', 'XK', 'ZA'], 'disc_number': 1, 'duration_ms': 248004, 'episode': False, 'explicit': False, 'external_ids': {'isrc': 'QMPKX1839303'}, 'external_urls': {'spotify': 'https://open.spotify.com/track/4dieH9eiQpTUYbc7IY3GYx'}, 'href': 'https://api.spotify.com/v1/tracks/4dieH9eiQpTUYbc7IY3GYx', 'id': '4dieH9eiQpTUYbc7IY3GYx', 'is_local': False, 'name': 'Cardinal Directions', 'popularity': 1, 'preview_url': 'https://p.scdn.co/mp3-preview/2875c88e7861ee1c001341d0c119259c8d72027e?cid=beb55c03e9d647e6ac01fe69751c1067', 'track': True, 'track_number': 4, 'type': 'track', 'uri': 'spotify:track:4dieH9eiQpTUYbc7IY3GYx'}, 'video_thumbnail': {'url': None}}, {'added_at': '2021-01-19T23:06:14Z', 'added_by': {'external_urls': {'spotify': 'https://open.spotify.com/user/1262504911'}, 'href': 'https://api.spotify.com/v1/users/1262504911', 'id': '1262504911', 'type': 'user', 'uri': 'spotify:user:1262504911'}, 'is_local': False, 'primary_color': None, 'track': {'album': {'album_type': 'album', 'artists': [{'external_urls': {'spotify': 'https://open.spotify.com/artist/6gT9lfBqZ1R9BrSEuB09E1'}, 'href': 'https://api.spotify.com/v1/artists/6gT9lfBqZ1R9BrSEuB09E1', 'id': '6gT9lfBqZ1R9BrSEuB09E1', 'name': 'The String Theory', 'type': 'artist', 'uri': 'spotify:artist:6gT9lfBqZ1R9BrSEuB09E1'}], 'available_markets': ['AD', 'AE', 'AL', 'AR', 'AT', 'AU', 'BA', 'BE', 'BG', 'BH', 'BO', 'BR', 'BY', 'CA', 'CH', 'CL', 'CO', 'CR', 'CY', 'CZ', 'DE', 'DK', 'DO', 'DZ', 'EC', 'EE', 'EG', 'ES', 'FI', 'FR', 'GB', 'GR', 'GT', 'HK', 'HN', 'HR', 'HU', 'ID', 'IE', 'IL', 'IN', 'IS', 'IT', 'JO', 'JP', 'KW', 'KZ', 'LB', 'LI', 'LT', 'LU', 'LV', 'MA', 'MC', 'MD', 'ME', 'MK', 'MT', 'MX', 'MY', 'NI', 'NL', 'NO', 'NZ', 'OM', 'PA', 'PE', 'PH', 'PL', 'PS', 'PT', 'PY', 'QA', 'RO', 'RS', 'RU', 'SA', 'SE', 'SG', 'SI', 'SK', 'SV', 'TH', 'TN', 'TR', 'TW', 'UA', 'US', 'UY', 'VN', 'XK', 'ZA'], 'external_urls': {'spotify': 'https://open.spotify.com/album/3KPdxlDMRfTFzPlb0RLTYm'}, 'href': 'https://api.spotify.com/v1/albums/3KPdxlDMRfTFzPlb0RLTYm', 'id': '3KPdxlDMRfTFzPlb0RLTYm', 'images': [{'height': 640, 'url': 'https://i.scdn.co/image/ab67616d0000b2733058e9ddc17c5f08d025e427', 'width': 640}, {'height': 300, 'url': 'https://i.scdn.co/image/ab67616d00001e023058e9ddc17c5f08d025e427', 'width': 300}, {'height': 64, 'url': 'https://i.scdn.co/image/ab67616d000048513058e9ddc17c5f08d025e427', 'width': 64}], 'name': 'The Los Angeles Suite', 'release_date': '2020-09-04', 'release_date_precision': 'day', 'total_tracks': 9, 'type': 'album', 'uri': 'spotify:album:3KPdxlDMRfTFzPlb0RLTYm'}, 'artists': [{'external_urls': {'spotify': 'https://open.spotify.com/artist/6gT9lfBqZ1R9BrSEuB09E1'}, 'href': 'https://api.spotify.com/v1/artists/6gT9lfBqZ1R9BrSEuB09E1', 'id': '6gT9lfBqZ1R9BrSEuB09E1', 'name': 'The String Theory', 'type': 'artist', 'uri': 'spotify:artist:6gT9lfBqZ1R9BrSEuB09E1'}, {'external_urls': {'spotify': 'https://open.spotify.com/artist/0tkBS89wZe0goJeNXZMCK6'}, 'href': 'https://api.spotify.com/v1/artists/0tkBS89wZe0goJeNXZMCK6', 'id': '0tkBS89wZe0goJeNXZMCK6', 'name': 'Jens Kuross', 'type': 'artist', 'uri': 'spotify:artist:0tkBS89wZe0goJeNXZMCK6'}], 'available_markets': ['AD', 'AE', 'AL', 'AR', 'AT', 'AU', 'BA', 'BE', 'BG', 'BH', 'BO', 'BR', 'BY', 'CA', 'CH', 'CL', 'CO', 'CR', 'CY', 'CZ', 'DE', 'DK', 'DO', 'DZ', 'EC', 'EE', 'EG', 'ES', 'FI', 'FR', 'GB', 'GR', 'GT', 'HK', 'HN', 'HR', 'HU', 'ID', 'IE', 'IL', 'IN', 'IS', 'IT', 'JO', 'JP', 'KW', 'KZ', 'LB', 'LI', 'LT', 'LU', 'LV', 'MA', 'MC', 'MD', 'ME', 'MK', 'MT', 'MX', 'MY', 'NI', 'NL', 'NO', 'NZ', 'OM', 'PA', 'PE', 'PH', 'PL', 'PS', 'PT', 'PY', 'QA', 'RO', 'RS', 'RU', 'SA', 'SE', 'SG', 'SI', 'SK', 'SV', 'TH', 'TN', 'TR', 'TW', 'UA', 'US', 'UY', 'VN', 'XK', 'ZA'], 'disc_number': 1, 'duration_ms': 272386, 'episode': False, 'explicit': False, 'external_ids': {'isrc': 'DEYX22000001'}, 'external_urls': {'spotify': 'https://open.spotify.com/track/0m77EQHrmUhW31HQqbUtf0'}, 'href': 'https://api.spotify.com/v1/tracks/0m77EQHrmUhW31HQqbUtf0', 'id': '0m77EQHrmUhW31HQqbUtf0', 'is_local': False, 'name': 'Jealous Days (feat. Jens Kuross)', 'popularity': 6, 'preview_url': 'https://p.scdn.co/mp3-preview/63ce272984fbdecf2a898523f62190b89e83da90?cid=beb55c03e9d647e6ac01fe69751c1067', 'track': True, 'track_number': 1, 'type': 'track', 'uri': 'spotify:track:0m77EQHrmUhW31HQqbUtf0'}, 'video_thumbnail': {'url': None}}, {'added_at': '2021-01-19T23:06:14Z', 'added_by': {'external_urls': {'spotify': 'https://open.spotify.com/user/1262504911'}, 'href': 'https://api.spotify.com/v1/users/1262504911', 'id': '1262504911', 'type': 'user', 'uri': 'spotify:user:1262504911'}, 'is_local': False, 'primary_color': None, 'track': {'album': {'album_type': 'album', 'artists': [{'external_urls': {'spotify': 'https://open.spotify.com/artist/6gT9lfBqZ1R9BrSEuB09E1'}, 'href': 'https://api.spotify.com/v1/artists/6gT9lfBqZ1R9BrSEuB09E1', 'id': '6gT9lfBqZ1R9BrSEuB09E1', 'name': 'The String Theory', 'type': 'artist', 'uri': 'spotify:artist:6gT9lfBqZ1R9BrSEuB09E1'}], 'available_markets': ['AD', 'AE', 'AL', 'AR', 'AT', 'AU', 'BA', 'BE', 'BG', 'BH', 'BO', 'BR', 'BY', 'CA', 'CH', 'CL', 'CO', 'CR', 'CY', 'CZ', 'DE', 'DK', 'DO', 'DZ', 'EC', 'EE', 'EG', 'ES', 'FI', 'FR', 'GB', 'GR', 'GT', 'HK', 'HN', 'HR', 'HU', 'ID', 'IE', 'IL', 'IN', 'IS', 'IT', 'JO', 'JP', 'KW', 'KZ', 'LB', 'LI', 'LT', 'LU', 'LV', 'MA', 'MC', 'MD', 'ME', 'MK', 'MT', 'MX', 'MY', 'NI', 'NL', 'NO', 'NZ', 'OM', 'PA', 'PE', 'PH', 'PL', 'PS', 'PT', 'PY', 'QA', 'RO', 'RS', 'RU', 'SA', 'SE', 'SG', 'SI', 'SK', 'SV', 'TH', 'TN', 'TR', 'TW', 'UA', 'US', 'UY', 'VN', 'XK', 'ZA'], 'external_urls': {'spotify': 'https://open.spotify.com/album/3KPdxlDMRfTFzPlb0RLTYm'}, 'href': 'https://api.spotify.com/v1/albums/3KPdxlDMRfTFzPlb0RLTYm', 'id': '3KPdxlDMRfTFzPlb0RLTYm', 'images': [{'height': 640, 'url': 'https://i.scdn.co/image/ab67616d0000b2733058e9ddc17c5f08d025e427', 'width': 640}, {'height': 300, 'url': 'https://i.scdn.co/image/ab67616d00001e023058e9ddc17c5f08d025e427', 'width': 300}, {'height': 64, 'url': 'https://i.scdn.co/image/ab67616d000048513058e9ddc17c5f08d025e427', 'width': 64}], 'name': 'The Los Angeles Suite', 'release_date': '2020-09-04', 'release_date_precision': 'day', 'total_tracks': 9, 'type': 'album', 'uri': 'spotify:album:3KPdxlDMRfTFzPlb0RLTYm'}, 'artists': [{'external_urls': {'spotify': 'https://open.spotify.com/artist/6gT9lfBqZ1R9BrSEuB09E1'}, 'href': 'https://api.spotify.com/v1/artists/6gT9lfBqZ1R9BrSEuB09E1', 'id': '6gT9lfBqZ1R9BrSEuB09E1', 'name': 'The String Theory', 'type': 'artist', 'uri': 'spotify:artist:6gT9lfBqZ1R9BrSEuB09E1'}, {'external_urls': {'spotify': 'https://open.spotify.com/artist/5LjQNssIjReuJSupP3hqXl'}, 'href': 'https://api.spotify.com/v1/artists/5LjQNssIjReuJSupP3hqXl', 'id': '5LjQNssIjReuJSupP3hqXl', 'name': 'Shana Halligan', 'type': 'artist', 'uri': 'spotify:artist:5LjQNssIjReuJSupP3hqXl'}], 'available_markets': ['AD', 'AE', 'AL', 'AR', 'AT', 'AU', 'BA', 'BE', 'BG', 'BH', 'BO', 'BR', 'BY', 'CA', 'CH', 'CL', 'CO', 'CR', 'CY', 'CZ', 'DE', 'DK', 'DO', 'DZ', 'EC', 'EE', 'EG', 'ES', 'FI', 'FR', 'GB', 'GR', 'GT', 'HK', 'HN', 'HR', 'HU', 'ID', 'IE', 'IL', 'IN', 'IS', 'IT', 'JO', 'JP', 'KW', 'KZ', 'LB', 'LI', 'LT', 'LU', 'LV', 'MA', 'MC', 'MD', 'ME', 'MK', 'MT', 'MX', 'MY', 'NI', 'NL', 'NO', 'NZ', 'OM', 'PA', 'PE', 'PH', 'PL', 'PS', 'PT', 'PY', 'QA', 'RO', 'RS', 'RU', 'SA', 'SE', 'SG', 'SI', 'SK', 'SV', 'TH', 'TN', 'TR', 'TW', 'UA', 'US', 'UY', 'VN', 'XK', 'ZA'], 'disc_number': 1, 'duration_ms': 235160, 'episode': False, 'explicit': False, 'external_ids': {'isrc': 'DEYX22000002'}, 'external_urls': {'spotify': 'https://open.spotify.com/track/4YmyPmlZseh3MsRY6CJVN7'}, 'href': 'https://api.spotify.com/v1/tracks/4YmyPmlZseh3MsRY6CJVN7', 'id': '4YmyPmlZseh3MsRY6CJVN7', 'is_local': False, 'name': 'California Lover (feat. Shana Halligan)', 'popularity': 7, 'preview_url': 'https://p.scdn.co/mp3-preview/a81d87aaf4c3fd28352058bfd8e5acb3c2342285?cid=beb55c03e9d647e6ac01fe69751c1067', 'track': True, 'track_number': 2, 'type': 'track', 'uri': 'spotify:track:4YmyPmlZseh3MsRY6CJVN7'}, 'video_thumbnail': {'url': None}}], 'limit': 100, 'next': 'https://api.spotify.com/v1/playlists/1kIWAmjxOhvgmdZmbp1RiH/tracks?offset=2800&limit=100&additional_types=track', 'offset': 2700, 'previous': 'https://api.spotify.com/v1/playlists/1kIWAmjxOhvgmdZmbp1RiH/tracks?offset=2600&limit=100&additional_types=track', 'total': 6959}\n"
     ]
    }
   ],
   "source": [
    "track_dict = []\n",
    "offset = 0\n",
    "tracklist = []\n",
    "\n",
    "\n",
    "# s = string = 'AAAABBBCCDAABBB'\n",
    "\n",
    "for i in range(len(randomlist)):\n",
    "    track_dict = sp.playlist_tracks(playlist_id, fields=None, limit=100, offset=offset, market=None)\n",
    "    for x in track_dict['items']:\n",
    "        tracklist.append(x['track']['id'])\n",
    "    offset += 100\n",
    "\n",
    "print(track_dict)"
   ]
  },
  {
   "cell_type": "code",
   "execution_count": 145,
   "metadata": {},
   "outputs": [
    {
     "output_type": "execute_result",
     "data": {
      "text/plain": [
       "2800"
      ]
     },
     "metadata": {},
     "execution_count": 145
    }
   ],
   "source": [
    "len(tracklist)"
   ]
  },
  {
   "cell_type": "code",
   "execution_count": 153,
   "metadata": {},
   "outputs": [
    {
     "output_type": "error",
     "ename": "KeyError",
     "evalue": "'artist'",
     "traceback": [
      "\u001b[1;31m---------------------------------------------------------------------------\u001b[0m",
      "\u001b[1;31mKeyError\u001b[0m                                  Traceback (most recent call last)",
      "\u001b[1;32m<ipython-input-153-b9fce89fe7c3>\u001b[0m in \u001b[0;36m<module>\u001b[1;34m\u001b[0m\n\u001b[0;32m      9\u001b[0m     \u001b[0mgenre_dict\u001b[0m \u001b[1;33m=\u001b[0m \u001b[0msp\u001b[0m\u001b[1;33m.\u001b[0m\u001b[0mplaylist_tracks\u001b[0m\u001b[1;33m(\u001b[0m\u001b[0mplaylist_id\u001b[0m\u001b[1;33m,\u001b[0m \u001b[0mfields\u001b[0m\u001b[1;33m=\u001b[0m\u001b[1;32mNone\u001b[0m\u001b[1;33m,\u001b[0m \u001b[0mlimit\u001b[0m\u001b[1;33m=\u001b[0m\u001b[1;36m100\u001b[0m\u001b[1;33m,\u001b[0m \u001b[0moffset\u001b[0m\u001b[1;33m=\u001b[0m\u001b[0moffset\u001b[0m\u001b[1;33m,\u001b[0m \u001b[0mmarket\u001b[0m\u001b[1;33m=\u001b[0m\u001b[1;32mNone\u001b[0m\u001b[1;33m)\u001b[0m\u001b[1;33m\u001b[0m\u001b[1;33m\u001b[0m\u001b[0m\n\u001b[0;32m     10\u001b[0m     \u001b[1;32mfor\u001b[0m \u001b[0mx\u001b[0m \u001b[1;32min\u001b[0m \u001b[0mgenre_dict\u001b[0m\u001b[1;33m[\u001b[0m\u001b[1;34m'items'\u001b[0m\u001b[1;33m]\u001b[0m\u001b[1;33m:\u001b[0m\u001b[1;33m\u001b[0m\u001b[1;33m\u001b[0m\u001b[0m\n\u001b[1;32m---> 11\u001b[1;33m         \u001b[0mgenrelist\u001b[0m\u001b[1;33m.\u001b[0m\u001b[0mappend\u001b[0m\u001b[1;33m(\u001b[0m\u001b[0mx\u001b[0m\u001b[1;33m[\u001b[0m\u001b[1;34m'artist'\u001b[0m\u001b[1;33m]\u001b[0m\u001b[1;33m[\u001b[0m\u001b[1;34m'genres'\u001b[0m\u001b[1;33m]\u001b[0m\u001b[1;33m)\u001b[0m\u001b[1;33m\u001b[0m\u001b[1;33m\u001b[0m\u001b[0m\n\u001b[0m\u001b[0;32m     12\u001b[0m     \u001b[0moffset\u001b[0m \u001b[1;33m+=\u001b[0m \u001b[1;36m100\u001b[0m\u001b[1;33m\u001b[0m\u001b[1;33m\u001b[0m\u001b[0m\n\u001b[0;32m     13\u001b[0m \u001b[1;33m\u001b[0m\u001b[0m\n",
      "\u001b[1;31mKeyError\u001b[0m: 'artist'"
     ]
    }
   ],
   "source": [
    "# genre_dict = []\n",
    "# offset = 0\n",
    "# genrelist = []\n",
    "\n",
    "\n",
    "# # s = string = 'AAAABBBCCDAABBB'\n",
    "\n",
    "# for i in range(len(randomlist)):\n",
    "#     genre_dict = sp.playlist_tracks(playlist_id, fields=None, limit=100, offset=offset, market=None)\n",
    "#     for x in genre_dict['items']:\n",
    "#         genrelist.append(x['artist']['genres'])\n",
    "#     offset += 100\n",
    "\n",
    "# print(genre_dict)"
   ]
  },
  {
   "cell_type": "code",
   "execution_count": 38,
   "metadata": {},
   "outputs": [],
   "source": [
    "# def getTrackIDs(user, playlist_id):\n",
    "#     ids = []\n",
    "#     playlist = sp.user_playlist(username, playlist_id)\n",
    "#     for item in playlist['tracks']['items']:\n",
    "#         track = item['track']\n",
    "#         ids.append(track['id'])\n",
    "#     return ids\n",
    "\n",
    "# ids = getTrackIDs(username, playlist_id)\n",
    "\n",
    "# print(len(ids))\n",
    "# print(ids)\n"
   ]
  },
  {
   "cell_type": "code",
   "execution_count": null,
   "metadata": {},
   "outputs": [],
   "source": []
  },
  {
   "cell_type": "code",
   "execution_count": 155,
   "metadata": {},
   "outputs": [
    {
     "output_type": "error",
     "ename": "SyntaxError",
     "evalue": "unmatched ')' (<ipython-input-155-7f2f94bc6b5d>, line 37)",
     "traceback": [
      "\u001b[1;36m  File \u001b[1;32m\"<ipython-input-155-7f2f94bc6b5d>\"\u001b[1;36m, line \u001b[1;32m37\u001b[0m\n\u001b[1;33m    print('too many 503 error responses'))\u001b[0m\n\u001b[1;37m                                         ^\u001b[0m\n\u001b[1;31mSyntaxError\u001b[0m\u001b[1;31m:\u001b[0m unmatched ')'\n"
     ]
    }
   ],
   "source": [
    "# def getTrackFeatures(id):\n",
    "def getTrackFeatures(tracklist):\n",
    "  meta = sp.track(tracklist)\n",
    "  features = sp.audio_features(tracklist)\n",
    "\n",
    "  # meta\n",
    "  name = meta['name']\n",
    "  album = meta['album']['name']\n",
    "  artist = meta['album']['artists'][0]['name']\n",
    "  release_date = meta['album']['release_date']\n",
    "  length = meta['duration_ms']\n",
    "  popularity = meta['popularity']\n",
    "\n",
    "  # features\n",
    "  acousticness = features[0]['acousticness']\n",
    "  danceability = features[0]['danceability']\n",
    "  energy = features[0]['energy']\n",
    "  instrumentalness = features[0]['instrumentalness']\n",
    "  liveness = features[0]['liveness']\n",
    "  loudness = features[0]['loudness']\n",
    "  speechiness = features[0]['speechiness']\n",
    "  tempo = features[0]['tempo']\n",
    "  time_signature = features[0]['time_signature']\n",
    "  valence = features[0]['valence']\n",
    "\n",
    "\n",
    "  track = [name, album, artist, release_date, length, popularity, danceability, acousticness, valence, energy, instrumentalness, liveness, loudness, speechiness, tempo, time_signature]\n",
    "  return track\n",
    "\n",
    "  # loop over track ids \n",
    "tracks = []\n",
    "for i in range(len(tracklist)):\n",
    "  time.sleep(3)\n",
    "  try:\n",
    "    track = getTrackFeatures(tracklist[i])\n",
    "    tracks.append(track)\n",
    "  except:\n",
    "    print('too many 503 error responses')"
   ]
  },
  {
   "cell_type": "code",
   "execution_count": 91,
   "metadata": {},
   "outputs": [],
   "source": [
    "# tracks"
   ]
  },
  {
   "cell_type": "code",
   "execution_count": null,
   "metadata": {},
   "outputs": [],
   "source": [
    "# create dataset\n",
    "df = pd.DataFrame(tracks, columns = ['name', 'album', 'artist', 'release_date', 'length', 'popularity', 'danceability', 'acousticness', 'valence', 'energy', 'instrumentalness', 'liveness', 'loudness', 'speechiness', 'tempo', 'time_signature'])\n",
    "# [1,2,3,4]\n",
    "# df.to_csv(\"test_cincy_spotify.csv\", sep = ',')\n",
    "\n",
    "df.head(10)\n"
   ]
  },
  {
   "cell_type": "code",
   "execution_count": null,
   "metadata": {},
   "outputs": [],
   "source": [
    "len(df)"
   ]
  },
  {
   "cell_type": "code",
   "execution_count": null,
   "metadata": {},
   "outputs": [],
   "source": [
    "# Map<String, Object> options = new Map<String, Object>();\n",
    "# options.put(SpotifyService.LIMIT, 100);\n",
    "\n",
    "# // get tracks 0-99\n",
    "# options.put(SpotifyService.OFFSET, 0);\n",
    "# Pager<PlaylistTrack> response = spotifyService.getPlaylistTracks(userId, playlistId, options);\n",
    "\n",
    "# // get tracks 100-199\n",
    "# options.put(SpotifyService.OFFSET, 100);\n",
    "# Pager<PlaylistTrack> response = spotifyService.getPlaylistTracks(userId, playlistId, options);\n",
    "\n",
    "# // get tracks 200-268\n",
    "# options.put(SpotifyService.OFFSET, 200);\n",
    "# Pager<PlaylistTrack> response = spotifyService.getPlaylistTracks(userId, playlistId, options);"
   ]
  },
  {
   "cell_type": "code",
   "execution_count": null,
   "metadata": {},
   "outputs": [],
   "source": [
    "# https://www.reddit.com/r/tasker/comments/bm3j9p/help_autospotifyautoweb_add_current_track_to/\n",
    "\n"
   ]
  },
  {
   "cell_type": "code",
   "execution_count": 9,
   "metadata": {},
   "outputs": [],
   "source": [
    "# import pandas as pd\n",
    "# df_bands = pd.read_csv('artists_info.csv')\n",
    "# del df_bands['Unnamed: 0']\n",
    "# df_bands.head()\n",
    "# # df_bands.dtypes()"
   ]
  },
  {
   "cell_type": "code",
   "execution_count": 94,
   "metadata": {},
   "outputs": [],
   "source": [
    "# RENAME COLUMNS\n",
    "df_bands.rename(columns={'favorites': 'cincymusic_favorites', 'popularity': 'artist_Popularity', 'followers': 'spotify_followers', 'genres_y': 'spotify_genres'}, inplace=True)"
   ]
  },
  {
   "cell_type": "code",
   "execution_count": 95,
   "metadata": {},
   "outputs": [
    {
     "output_type": "execute_result",
     "data": {
      "text/plain": [
       "Empty DataFrame\n",
       "Columns: [name, album, artist, release_date, length, popularity, danceability, acousticness, valence, energy, instrumentalness, liveness, loudness, speechiness, tempo, time_signature, names, cincymusic_favorites, spotify_followers, spotify_genres, artist_Popularity, GENRE1, GENRE2, GENRE3]\n",
       "Index: []\n",
       "\n",
       "[0 rows x 24 columns]"
      ],
      "text/html": "<div>\n<style scoped>\n    .dataframe tbody tr th:only-of-type {\n        vertical-align: middle;\n    }\n\n    .dataframe tbody tr th {\n        vertical-align: top;\n    }\n\n    .dataframe thead th {\n        text-align: right;\n    }\n</style>\n<table border=\"1\" class=\"dataframe\">\n  <thead>\n    <tr style=\"text-align: right;\">\n      <th></th>\n      <th>name</th>\n      <th>album</th>\n      <th>artist</th>\n      <th>release_date</th>\n      <th>length</th>\n      <th>popularity</th>\n      <th>danceability</th>\n      <th>acousticness</th>\n      <th>valence</th>\n      <th>energy</th>\n      <th>...</th>\n      <th>tempo</th>\n      <th>time_signature</th>\n      <th>names</th>\n      <th>cincymusic_favorites</th>\n      <th>spotify_followers</th>\n      <th>spotify_genres</th>\n      <th>artist_Popularity</th>\n      <th>GENRE1</th>\n      <th>GENRE2</th>\n      <th>GENRE3</th>\n    </tr>\n  </thead>\n  <tbody>\n  </tbody>\n</table>\n<p>0 rows × 24 columns</p>\n</div>"
     },
     "metadata": {},
     "execution_count": 95
    }
   ],
   "source": [
    "df_join = df.merge(df_bands, how='inner', left_on=['artist'],right_on=['names'])\n",
    "df_join.head()"
   ]
  },
  {
   "cell_type": "code",
   "execution_count": 96,
   "metadata": {},
   "outputs": [],
   "source": [
    "# df_join['exists'] = df_join.artist.isin(df_bands.names).astype(int)\n",
    "# df.head(10)"
   ]
  },
  {
   "cell_type": "code",
   "execution_count": 97,
   "metadata": {},
   "outputs": [
    {
     "output_type": "execute_result",
     "data": {
      "text/plain": [
       "Empty DataFrame\n",
       "Columns: [name, album, artist, release_date, length, popularity, danceability, acousticness, valence, energy, instrumentalness, liveness, loudness, speechiness, tempo, time_signature, names, cincymusic_favorites, spotify_followers, spotify_genres, artist_Popularity, GENRE1, GENRE2, GENRE3]\n",
       "Index: []\n",
       "\n",
       "[0 rows x 24 columns]"
      ],
      "text/html": "<div>\n<style scoped>\n    .dataframe tbody tr th:only-of-type {\n        vertical-align: middle;\n    }\n\n    .dataframe tbody tr th {\n        vertical-align: top;\n    }\n\n    .dataframe thead th {\n        text-align: right;\n    }\n</style>\n<table border=\"1\" class=\"dataframe\">\n  <thead>\n    <tr style=\"text-align: right;\">\n      <th></th>\n      <th>name</th>\n      <th>album</th>\n      <th>artist</th>\n      <th>release_date</th>\n      <th>length</th>\n      <th>popularity</th>\n      <th>danceability</th>\n      <th>acousticness</th>\n      <th>valence</th>\n      <th>energy</th>\n      <th>...</th>\n      <th>tempo</th>\n      <th>time_signature</th>\n      <th>names</th>\n      <th>cincymusic_favorites</th>\n      <th>spotify_followers</th>\n      <th>spotify_genres</th>\n      <th>artist_Popularity</th>\n      <th>GENRE1</th>\n      <th>GENRE2</th>\n      <th>GENRE3</th>\n    </tr>\n  </thead>\n  <tbody>\n  </tbody>\n</table>\n<p>0 rows × 24 columns</p>\n</div>"
     },
     "metadata": {},
     "execution_count": 97
    }
   ],
   "source": [
    "df_join.drop_duplicates(keep=False, inplace=True)\n",
    "df_join.sort_values('popularity', ascending=False)"
   ]
  }
 ]
}